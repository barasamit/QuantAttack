{
 "cells": [
  {
   "cell_type": "code",
   "execution_count": 2,
   "id": "612a6e7b-2742-4aa0-8204-6bb9ec6aa418",
   "metadata": {
    "collapsed": true,
    "jupyter": {
     "outputs_hidden": true
    },
    "tags": []
   },
   "outputs": [],
   "source": [
    "import os\n",
    "import pandas as pd\n",
    "from tqdm import tqdm"
   ]
  },
  {
   "cell_type": "markdown",
   "id": "73eba368-9015-4871-a69e-fd2c97e230a9",
   "metadata": {},
   "source": [
    "___________________________________________"
   ]
  },
  {
   "cell_type": "code",
   "execution_count": 3,
   "id": "9af398d2-3084-4b14-80f9-f3876728659b",
   "metadata": {
    "collapsed": true,
    "jupyter": {
     "outputs_hidden": true
    },
    "tags": []
   },
   "outputs": [],
   "source": [
    "def str_to_list(string):\n",
    "   \n",
    "    return [string]\n"
   ]
  },
  {
   "cell_type": "code",
   "execution_count": 8,
   "id": "e7693973-7960-430a-99d0-07e9888618c0",
   "metadata": {
    "collapsed": true,
    "jupyter": {
     "outputs_hidden": true
    },
    "tags": []
   },
   "outputs": [
    {
     "name": "stderr",
     "output_type": "stream",
     "text": [
      "  9%|▉         | 5/55 [00:00<00:01, 45.51it/s]"
     ]
    },
    {
     "name": "stdout",
     "output_type": "stream",
     "text": [
      "/sise/home/barasa/8_bit/experiments/April/inf_1_0.001_True/results.csv\n",
      "/sise/home/barasa/8_bit/experiments/April/inf_1_0.005_True/results.csv\n",
      "/sise/home/barasa/8_bit/experiments/April/inf_1_0.01_True/results.csv\n",
      "/sise/home/barasa/8_bit/experiments/April/inf_1_0.05_True/results.csv\n",
      "/sise/home/barasa/8_bit/experiments/April/inf_1_0.1_True/results.csv\n",
      "/sise/home/barasa/8_bit/experiments/April/inf_1_0.5_True/results.csv\n",
      "/sise/home/barasa/8_bit/experiments/April/inf_1_1_True/results.csv\n",
      "/sise/home/barasa/8_bit/experiments/April/inf_2_0.001_True/results.csv\n",
      "/sise/home/barasa/8_bit/experiments/April/inf_2_0.005_True/results.csv\n",
      "/sise/home/barasa/8_bit/experiments/April/inf_2_0.01_True/results.csv\n",
      "/sise/home/barasa/8_bit/experiments/April/inf_2_0.05_True/results.csv\n",
      "/sise/home/barasa/8_bit/experiments/April/inf_2_0.1_True/results.csv\n"
     ]
    },
    {
     "name": "stderr",
     "output_type": "stream",
     "text": [
      " 36%|███▋      | 20/55 [00:00<00:00, 63.95it/s]"
     ]
    },
    {
     "name": "stdout",
     "output_type": "stream",
     "text": [
      "/sise/home/barasa/8_bit/experiments/April/inf_2_0.5_True/results.csv\n",
      "/sise/home/barasa/8_bit/experiments/April/inf_2_1_True/results.csv\n",
      "/sise/home/barasa/8_bit/experiments/April/inf_5_0.001_True/results.csv\n",
      "/sise/home/barasa/8_bit/experiments/April/inf_5_0.005_True/results.csv\n",
      "/sise/home/barasa/8_bit/experiments/April/inf_5_0.01_True/results.csv\n",
      "/sise/home/barasa/8_bit/experiments/April/inf_5_0.05_True/results.csv\n",
      "/sise/home/barasa/8_bit/experiments/April/inf_5_0.1_True/results.csv\n",
      "/sise/home/barasa/8_bit/experiments/April/inf_5_0.5_True/results.csv\n",
      "/sise/home/barasa/8_bit/experiments/April/inf_5_1_True/results.csv\n",
      "/sise/home/barasa/8_bit/experiments/April/inf_8_0.001_True/results.csv\n",
      "/sise/home/barasa/8_bit/experiments/April/inf_8_0.005_True/results.csv\n",
      "/sise/home/barasa/8_bit/experiments/April/inf_8_0.01_True/results.csv\n",
      "/sise/home/barasa/8_bit/experiments/April/inf_8_0.05_True/results.csv\n"
     ]
    },
    {
     "name": "stderr",
     "output_type": "stream",
     "text": [
      " 65%|██████▌   | 36/55 [00:00<00:00, 66.94it/s]"
     ]
    },
    {
     "name": "stdout",
     "output_type": "stream",
     "text": [
      "/sise/home/barasa/8_bit/experiments/April/inf_8_0.1_True/results.csv\n",
      "/sise/home/barasa/8_bit/experiments/April/inf_8_0.5_True/results.csv\n",
      "/sise/home/barasa/8_bit/experiments/April/inf_8_1_True/results.csv\n",
      "/sise/home/barasa/8_bit/experiments/April/inf_10_0.001_True/results.csv\n",
      "/sise/home/barasa/8_bit/experiments/April/inf_10_0.005_True/results.csv\n",
      "/sise/home/barasa/8_bit/experiments/April/inf_10_0.01_True/results.csv\n",
      "/sise/home/barasa/8_bit/experiments/April/inf_10_0.05_True/results.csv\n",
      "/sise/home/barasa/8_bit/experiments/April/inf_10_0.1_True/results.csv\n",
      "/sise/home/barasa/8_bit/experiments/April/inf_10_0.5_True/results.csv\n",
      "/sise/home/barasa/8_bit/experiments/April/inf_10_1_True/results.csv\n",
      "/sise/home/barasa/8_bit/experiments/April/2_150_1_True/results.csv\n",
      "/sise/home/barasa/8_bit/experiments/April/2_150_3_True/results.csv\n",
      "/sise/home/barasa/8_bit/experiments/April/2_150_5_True/results.csv\n",
      "/sise/home/barasa/8_bit/experiments/April/2_150_10_True/results.csv\n",
      "/sise/home/barasa/8_bit/experiments/April/2_150_15_True/results.csv\n",
      "/sise/home/barasa/8_bit/experiments/April/2_350_1_True/results.csv\n"
     ]
    },
    {
     "name": "stderr",
     "output_type": "stream",
     "text": [
      " 91%|█████████ | 50/55 [00:00<00:00, 62.26it/s]"
     ]
    },
    {
     "name": "stdout",
     "output_type": "stream",
     "text": [
      "/sise/home/barasa/8_bit/experiments/April/2_350_3_True/results.csv\n",
      "/sise/home/barasa/8_bit/experiments/April/2_350_5_True/results.csv\n",
      "/sise/home/barasa/8_bit/experiments/April/2_350_10_True/results.csv\n",
      "/sise/home/barasa/8_bit/experiments/April/2_350_15_True/results.csv\n",
      "/sise/home/barasa/8_bit/experiments/April/2_500_1_True/results.csv\n",
      "/sise/home/barasa/8_bit/experiments/April/2_500_3_True/results.csv\n",
      "/sise/home/barasa/8_bit/experiments/April/2_500_5_True/results.csv\n",
      "/sise/home/barasa/8_bit/experiments/April/2_500_10_True/results.csv\n",
      "/sise/home/barasa/8_bit/experiments/April/2_500_15_True/results.csv\n",
      "/sise/home/barasa/8_bit/experiments/April/2_800_1_True/results.csv\n",
      "/sise/home/barasa/8_bit/experiments/April/2_800_3_True/results.csv\n",
      "/sise/home/barasa/8_bit/experiments/April/2_800_5_True/results.csv\n"
     ]
    },
    {
     "name": "stderr",
     "output_type": "stream",
     "text": [
      "100%|██████████| 55/55 [00:00<00:00, 63.47it/s]"
     ]
    },
    {
     "name": "stdout",
     "output_type": "stream",
     "text": [
      "/sise/home/barasa/8_bit/experiments/April/2_800_10_True/results.csv\n",
      "/sise/home/barasa/8_bit/experiments/April/2_800_15_True/results.csv\n"
     ]
    },
    {
     "name": "stderr",
     "output_type": "stream",
     "text": [
      "\n"
     ]
    }
   ],
   "source": [
    "results_combine = pd.DataFrame()\n",
    "root_folder = \"/sise/home/barasa/8_bit/experiments/April/\"\n",
    "save_dir = \"/sise/home/barasa/8_bit/experiments/April/stats/\"\n",
    "\n",
    "csv_files = []\n",
    "for dirpath, dirnames, filenames in os.walk(root_folder):\n",
    "    for filename in filenames:\n",
    "        if filename.endswith(\".csv\"):\n",
    "            csv_files.append(os.path.join(dirpath, filename))\n",
    "\n",
    "for csv_file in tqdm(csv_files):\n",
    "    print(csv_file)\n",
    "    open_file = csv_file\n",
    "    df = pd.read_csv(open_file)\n",
    "    df = df.drop(['batch_id'], axis=1)\n",
    "    df['clean_outliers'] = df['clean_outliers'].apply(str_to_list)\n",
    "    df['adv_outliers'] = df['adv_outliers'].apply(str_to_list)\n",
    "    df['diff_outliers'] = df['adv_outliers'].apply(sum) - df['clean_outliers'].apply(sum)\n",
    "    df['diff_outliers_%'] = df['diff_outliers'] / df['clean_outliers'].apply(sum)\n",
    "    df['diff_GFLOPs'] = df['adv_GFLOPs'] - df['clean_GFLOPs']\n",
    "    df['diff_GFLOPs_%'] = df['diff_GFLOPs'] / df['clean_GFLOPs']\n",
    "    df['diff_CUDA_mem'] = df['adv_CUDA_mem'] - df['clean_CUDA_mem']\n",
    "    df['diff_CUDA_mem_%'] = df['diff_CUDA_mem'] / df['clean_CUDA_mem']\n",
    "    df['diff_CUDA_time'] = df['adv_CUDA_time'] - df['clean_CUDA_time']\n",
    "    df['diff_CUDA_time_%'] = df['diff_CUDA_time'] / df['clean_CUDA_time']\n",
    "    numeric_cols = df.select_dtypes(include=[float, int]).columns.tolist()\n",
    "    stats = pd.DataFrame({'mean': df[numeric_cols].mean(), 'std': df[numeric_cols].std()}).transpose()\n",
    "    multi_index = pd.MultiIndex.from_product([[csv_file], ['mean', 'std']])\n",
    "    stats.index = multi_index\n",
    "    # save_file = os.path.join(save_dir,csv_file)\n",
    "    # stats_file = save_file.rsplit(\".\",1)[0] + '_stats.csv'\n",
    "    results_combine = pd.concat([results_combine, stats], axis=0)\n",
    "results_combine = results_combine.round(3)\n",
    "results_combine.to_csv(save_dir+'stats.csv')"
   ]
  },
  {
   "cell_type": "markdown",
   "id": "9d1c1371-b5aa-45a8-bdaa-653d7482daca",
   "metadata": {
    "jupyter": {
     "outputs_hidden": true
    },
    "tags": []
   },
   "source": [
    "___________________________________________"
   ]
  },
  {
   "cell_type": "code",
   "execution_count": 35,
   "id": "db29ee5f-ae8e-4c03-b31a-dfa85bc1e913",
   "metadata": {
    "tags": []
   },
   "outputs": [],
   "source": [
    "def get_vals(txt):\n",
    "    with open(txt, 'r') as file:\n",
    "        second_column = []\n",
    "        for line in file:\n",
    "            columns = line.split()\n",
    "            second_column.append(columns[1])\n",
    "    return second_column"
   ]
  },
  {
   "cell_type": "code",
   "execution_count": 56,
   "id": "3fe079dc-28b8-4654-a5dd-72861f3c6470",
   "metadata": {
    "tags": []
   },
   "outputs": [
    {
     "name": "stderr",
     "output_type": "stream",
     "text": [
      "100%|██████████| 40/40 [00:00<00:00, 751.23it/s]\n"
     ]
    }
   ],
   "source": [
    "results_combine = pd.DataFrame()\n",
    "root_folder = \"/sise/home/barasa/8_bit/grid_search/\"\n",
    "save_dir = \"/sise/home/barasa/8_bit/grid_search/\"\n",
    "\n",
    "txt_files = []\n",
    "for dirpath, dirnames, filenames in os.walk(root_folder):\n",
    "    for filename in filenames:\n",
    "        if filename == \"ex_list_300.txt\" or filename == \"ex_title.txt\" or filename == \"ex_list_3000.txt\":\n",
    "            txt_files.append(os.path.join(dirpath, filename))\n",
    "\n",
    "for indx in tqdm(range(0,len(txt_files),2)):\n",
    "    txt_file = txt_files[indx]\n",
    "    txt_title = open(txt_files[indx+1], \"r\").read()\n",
    "    values = get_vals(txt_file)\n",
    "    results_combine[txt_title] = values\n",
    "\n",
    "results_combine.to_csv(\"combie_exp.csv\")"
   ]
  },
  {
   "cell_type": "code",
   "execution_count": 50,
   "id": "b7ed48c9-1156-4b46-8859-9b676408cd8a",
   "metadata": {
    "tags": []
   },
   "outputs": [
    {
     "data": {
      "text/plain": [
       "'/sise/home/barasa/8_bit/grid_search/ex40/ex_list_300.txt'"
      ]
     },
     "execution_count": 50,
     "metadata": {},
     "output_type": "execute_result"
    }
   ],
   "source": [
    "txt_file"
   ]
  },
  {
   "cell_type": "code",
   "execution_count": 37,
   "id": "ee40bb3a-1906-4f94-acd6-c9fd5beaaecb",
   "metadata": {
    "tags": []
   },
   "outputs": [],
   "source": [
    "df = pd.DataFrame()\n",
    "root_folder = \"/sise/home/barasa/8_bit/experiments/April/\"\n",
    "save_dir = \"/sise/home/barasa/8_bit/experiments/April/stats/\"\n",
    "\n"
   ]
  },
  {
   "cell_type": "code",
   "execution_count": 36,
   "id": "7146e490-8dec-41eb-9c79-9b525ba62cb2",
   "metadata": {
    "tags": []
   },
   "outputs": [
    {
     "data": {
      "text/plain": [
       "'max from layer column -> no changes'"
      ]
     },
     "execution_count": 36,
     "metadata": {},
     "output_type": "execute_result"
    }
   ],
   "source": [
    "txt_file = \"/sise/home/barasa/8_bit/grid_search/ex1/ex_list_300.txt\"\n",
    "txt_title"
   ]
  },
  {
   "cell_type": "code",
   "execution_count": null,
   "id": "36d7c4b4-30d0-47bd-a004-1b801fa341f3",
   "metadata": {
    "collapsed": true,
    "jupyter": {
     "outputs_hidden": true
    },
    "tags": []
   },
   "outputs": [],
   "source": [
    "data = pd.read_csv(txt_file, sep=\" \", header=None)\n",
    "data.columns = [\"indx\"]"
   ]
  },
  {
   "cell_type": "code",
   "execution_count": 40,
   "id": "3aed039c-9978-4798-87cb-96c1a97bd90f",
   "metadata": {},
   "outputs": [],
   "source": [
    "df[txt_title] = get_vals(txt_file)\n"
   ]
  },
  {
   "cell_type": "code",
   "execution_count": 41,
   "id": "da4ff83a-c6e7-4038-abf2-f9a98c68eb9f",
   "metadata": {
    "tags": []
   },
   "outputs": [
    {
     "data": {
      "text/html": [
       "<div>\n",
       "<style scoped>\n",
       "    .dataframe tbody tr th:only-of-type {\n",
       "        vertical-align: middle;\n",
       "    }\n",
       "\n",
       "    .dataframe tbody tr th {\n",
       "        vertical-align: top;\n",
       "    }\n",
       "\n",
       "    .dataframe thead th {\n",
       "        text-align: right;\n",
       "    }\n",
       "</style>\n",
       "<table border=\"1\" class=\"dataframe\">\n",
       "  <thead>\n",
       "    <tr style=\"text-align: right;\">\n",
       "      <th></th>\n",
       "      <th>C</th>\n",
       "      <th>max from layer column -&gt; no changes</th>\n",
       "    </tr>\n",
       "  </thead>\n",
       "  <tbody>\n",
       "    <tr>\n",
       "      <th>0</th>\n",
       "      <td>0.0</td>\n",
       "      <td>0.0</td>\n",
       "    </tr>\n",
       "    <tr>\n",
       "      <th>1</th>\n",
       "      <td>0.0</td>\n",
       "      <td>0.0</td>\n",
       "    </tr>\n",
       "    <tr>\n",
       "      <th>2</th>\n",
       "      <td>0.0</td>\n",
       "      <td>0.0</td>\n",
       "    </tr>\n",
       "    <tr>\n",
       "      <th>3</th>\n",
       "      <td>0.0</td>\n",
       "      <td>0.0</td>\n",
       "    </tr>\n",
       "    <tr>\n",
       "      <th>4</th>\n",
       "      <td>0.0</td>\n",
       "      <td>0.0</td>\n",
       "    </tr>\n",
       "    <tr>\n",
       "      <th>...</th>\n",
       "      <td>...</td>\n",
       "      <td>...</td>\n",
       "    </tr>\n",
       "    <tr>\n",
       "      <th>67</th>\n",
       "      <td>0.0</td>\n",
       "      <td>0.0</td>\n",
       "    </tr>\n",
       "    <tr>\n",
       "      <th>68</th>\n",
       "      <td>0.0</td>\n",
       "      <td>0.0</td>\n",
       "    </tr>\n",
       "    <tr>\n",
       "      <th>69</th>\n",
       "      <td>2.083333333333333</td>\n",
       "      <td>2.083333333333333</td>\n",
       "    </tr>\n",
       "    <tr>\n",
       "      <th>70</th>\n",
       "      <td>0.6510416666666667</td>\n",
       "      <td>0.6510416666666667</td>\n",
       "    </tr>\n",
       "    <tr>\n",
       "      <th>71</th>\n",
       "      <td>2.63671875</td>\n",
       "      <td>2.63671875</td>\n",
       "    </tr>\n",
       "  </tbody>\n",
       "</table>\n",
       "<p>72 rows × 2 columns</p>\n",
       "</div>"
      ],
      "text/plain": [
       "                     C max from layer column -> no changes\n",
       "0                  0.0                                 0.0\n",
       "1                  0.0                                 0.0\n",
       "2                  0.0                                 0.0\n",
       "3                  0.0                                 0.0\n",
       "4                  0.0                                 0.0\n",
       "..                 ...                                 ...\n",
       "67                 0.0                                 0.0\n",
       "68                 0.0                                 0.0\n",
       "69   2.083333333333333                   2.083333333333333\n",
       "70  0.6510416666666667                  0.6510416666666667\n",
       "71          2.63671875                          2.63671875\n",
       "\n",
       "[72 rows x 2 columns]"
      ]
     },
     "execution_count": 41,
     "metadata": {},
     "output_type": "execute_result"
    }
   ],
   "source": [
    "df"
   ]
  },
  {
   "cell_type": "code",
   "execution_count": null,
   "id": "362dfa26-1be4-4e81-96f5-c78c2ebbcfd4",
   "metadata": {},
   "outputs": [],
   "source": []
  }
 ],
 "metadata": {
  "kernelspec": {
   "display_name": "Python 3 (ipykernel)",
   "language": "python",
   "name": "python3"
  },
  "language_info": {
   "codemirror_mode": {
    "name": "ipython",
    "version": 3
   },
   "file_extension": ".py",
   "mimetype": "text/x-python",
   "name": "python",
   "nbconvert_exporter": "python",
   "pygments_lexer": "ipython3",
   "version": "3.10.9"
  }
 },
 "nbformat": 4,
 "nbformat_minor": 5
}
